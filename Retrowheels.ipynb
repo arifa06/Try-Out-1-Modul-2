{
 "metadata": {
  "language_info": {
   "codemirror_mode": {
    "name": "ipython",
    "version": 3
   },
   "file_extension": ".py",
   "mimetype": "text/x-python",
   "name": "python",
   "nbconvert_exporter": "python",
   "pygments_lexer": "ipython3",
   "version": "3.9.4"
  },
  "orig_nbformat": 2,
  "kernelspec": {
   "name": "python394jvsc74a57bd0f7b07a48f3b3e9900664b7cde7d498fa588706d27fd88a439771392aecf50319",
   "display_name": "Python 3.9.4 64-bit"
  },
  "metadata": {
   "interpreter": {
    "hash": "f7b07a48f3b3e9900664b7cde7d498fa588706d27fd88a439771392aecf50319"
   }
  }
 },
 "nbformat": 4,
 "nbformat_minor": 2,
 "cells": [
  {
   "cell_type": "code",
   "execution_count": 2,
   "metadata": {},
   "outputs": [],
   "source": [
    "import mysql.connector\n",
    "import pandas as pd"
   ]
  },
  {
   "cell_type": "code",
   "execution_count": 3,
   "metadata": {},
   "outputs": [],
   "source": [
    "mydb = mysql.connector.connect(\n",
    "    host = 'localhost',\n",
    "    user = 'root',\n",
    "    passwd = 'root',\n",
    "    database = 'retrowheels'\n",
    ")"
   ]
  },
  {
   "cell_type": "code",
   "execution_count": 4,
   "metadata": {},
   "outputs": [
    {
     "output_type": "execute_result",
     "data": {
      "text/plain": [
       "   employeeNumber   lastName firstName extension  \\\n",
       "0            1002     Murphy     Diane     x5800   \n",
       "1            1056  Patterson      Mary     x4611   \n",
       "2            1076   Firrelli      Jeff     x9273   \n",
       "3            1088  Patterson   William     x4871   \n",
       "4            1102     Bondur    Gerard     x5408   \n",
       "\n",
       "                             email officeCode  reportsTo              jobTitle  \n",
       "0     dmurphy@classicmodelcars.com          1        NaN             President  \n",
       "1   mpatterso@classicmodelcars.com          1     1002.0              VP Sales  \n",
       "2   jfirrelli@classicmodelcars.com          1     1002.0          VP Marketing  \n",
       "3  wpatterson@classicmodelcars.com          6     1056.0  Sales Manager (APAC)  \n",
       "4     gbondur@classicmodelcars.com          4     1056.0   Sale Manager (EMEA)  "
      ],
      "text/html": "<div>\n<style scoped>\n    .dataframe tbody tr th:only-of-type {\n        vertical-align: middle;\n    }\n\n    .dataframe tbody tr th {\n        vertical-align: top;\n    }\n\n    .dataframe thead th {\n        text-align: right;\n    }\n</style>\n<table border=\"1\" class=\"dataframe\">\n  <thead>\n    <tr style=\"text-align: right;\">\n      <th></th>\n      <th>employeeNumber</th>\n      <th>lastName</th>\n      <th>firstName</th>\n      <th>extension</th>\n      <th>email</th>\n      <th>officeCode</th>\n      <th>reportsTo</th>\n      <th>jobTitle</th>\n    </tr>\n  </thead>\n  <tbody>\n    <tr>\n      <th>0</th>\n      <td>1002</td>\n      <td>Murphy</td>\n      <td>Diane</td>\n      <td>x5800</td>\n      <td>dmurphy@classicmodelcars.com</td>\n      <td>1</td>\n      <td>NaN</td>\n      <td>President</td>\n    </tr>\n    <tr>\n      <th>1</th>\n      <td>1056</td>\n      <td>Patterson</td>\n      <td>Mary</td>\n      <td>x4611</td>\n      <td>mpatterso@classicmodelcars.com</td>\n      <td>1</td>\n      <td>1002.0</td>\n      <td>VP Sales</td>\n    </tr>\n    <tr>\n      <th>2</th>\n      <td>1076</td>\n      <td>Firrelli</td>\n      <td>Jeff</td>\n      <td>x9273</td>\n      <td>jfirrelli@classicmodelcars.com</td>\n      <td>1</td>\n      <td>1002.0</td>\n      <td>VP Marketing</td>\n    </tr>\n    <tr>\n      <th>3</th>\n      <td>1088</td>\n      <td>Patterson</td>\n      <td>William</td>\n      <td>x4871</td>\n      <td>wpatterson@classicmodelcars.com</td>\n      <td>6</td>\n      <td>1056.0</td>\n      <td>Sales Manager (APAC)</td>\n    </tr>\n    <tr>\n      <th>4</th>\n      <td>1102</td>\n      <td>Bondur</td>\n      <td>Gerard</td>\n      <td>x5408</td>\n      <td>gbondur@classicmodelcars.com</td>\n      <td>4</td>\n      <td>1056.0</td>\n      <td>Sale Manager (EMEA)</td>\n    </tr>\n  </tbody>\n</table>\n</div>"
     },
     "metadata": {},
     "execution_count": 4
    }
   ],
   "source": [
    "mycursor = mydb.cursor()\n",
    "\n",
    "query = 'select * from employees'\n",
    "\n",
    "mycursor.execute(query)\n",
    "\n",
    "result = mycursor.fetchall()\n",
    "\n",
    "df = pd.DataFrame(result, columns = mycursor.column_names)\n",
    "df.head(5)"
   ]
  },
  {
   "source": [
    "SOAL NO. 1"
   ],
   "cell_type": "markdown",
   "metadata": {}
  },
  {
   "cell_type": "code",
   "execution_count": 6,
   "metadata": {},
   "outputs": [
    {
     "output_type": "execute_result",
     "data": {
      "text/plain": [
       "   count(distinct customernumber)\n",
       "0                             122"
      ],
      "text/html": "<div>\n<style scoped>\n    .dataframe tbody tr th:only-of-type {\n        vertical-align: middle;\n    }\n\n    .dataframe tbody tr th {\n        vertical-align: top;\n    }\n\n    .dataframe thead th {\n        text-align: right;\n    }\n</style>\n<table border=\"1\" class=\"dataframe\">\n  <thead>\n    <tr style=\"text-align: right;\">\n      <th></th>\n      <th>count(distinct customernumber)</th>\n    </tr>\n  </thead>\n  <tbody>\n    <tr>\n      <th>0</th>\n      <td>122</td>\n    </tr>\n  </tbody>\n</table>\n</div>"
     },
     "metadata": {},
     "execution_count": 6
    }
   ],
   "source": [
    "mycursor = mydb.cursor()\n",
    "\n",
    "query = 'select count(distinct customernumber) from customers'\n",
    "\n",
    "mycursor.execute(query)\n",
    "\n",
    "result = mycursor.fetchall()\n",
    "\n",
    "df = pd.DataFrame(result, columns = mycursor.column_names)\n",
    "df"
   ]
  },
  {
   "cell_type": "code",
   "execution_count": 7,
   "metadata": {},
   "outputs": [
    {
     "output_type": "execute_result",
     "data": {
      "text/plain": [
       "   count(distinct city)\n",
       "0                    95"
      ],
      "text/html": "<div>\n<style scoped>\n    .dataframe tbody tr th:only-of-type {\n        vertical-align: middle;\n    }\n\n    .dataframe tbody tr th {\n        vertical-align: top;\n    }\n\n    .dataframe thead th {\n        text-align: right;\n    }\n</style>\n<table border=\"1\" class=\"dataframe\">\n  <thead>\n    <tr style=\"text-align: right;\">\n      <th></th>\n      <th>count(distinct city)</th>\n    </tr>\n  </thead>\n  <tbody>\n    <tr>\n      <th>0</th>\n      <td>95</td>\n    </tr>\n  </tbody>\n</table>\n</div>"
     },
     "metadata": {},
     "execution_count": 7
    }
   ],
   "source": [
    "mycursor = mydb.cursor()\n",
    "\n",
    "query = 'select count(distinct city) from customers'\n",
    "\n",
    "mycursor.execute(query)\n",
    "\n",
    "result = mycursor.fetchall()\n",
    "\n",
    "df = pd.DataFrame(result, columns = mycursor.column_names)\n",
    "df"
   ]
  },
  {
   "cell_type": "code",
   "execution_count": 8,
   "metadata": {},
   "outputs": [
    {
     "output_type": "execute_result",
     "data": {
      "text/plain": [
       "   count(distinct country)\n",
       "0                       27"
      ],
      "text/html": "<div>\n<style scoped>\n    .dataframe tbody tr th:only-of-type {\n        vertical-align: middle;\n    }\n\n    .dataframe tbody tr th {\n        vertical-align: top;\n    }\n\n    .dataframe thead th {\n        text-align: right;\n    }\n</style>\n<table border=\"1\" class=\"dataframe\">\n  <thead>\n    <tr style=\"text-align: right;\">\n      <th></th>\n      <th>count(distinct country)</th>\n    </tr>\n  </thead>\n  <tbody>\n    <tr>\n      <th>0</th>\n      <td>27</td>\n    </tr>\n  </tbody>\n</table>\n</div>"
     },
     "metadata": {},
     "execution_count": 8
    }
   ],
   "source": [
    "mycursor = mydb.cursor()\n",
    "\n",
    "query = 'select count(distinct country) from customers'\n",
    "\n",
    "mycursor.execute(query)\n",
    "\n",
    "result = mycursor.fetchall()\n",
    "\n",
    "df = pd.DataFrame(result, columns = mycursor.column_names)\n",
    "df"
   ]
  },
  {
   "source": [
    "SOAL  NO. 2"
   ],
   "cell_type": "markdown",
   "metadata": {}
  },
  {
   "cell_type": "code",
   "execution_count": 9,
   "metadata": {},
   "outputs": [
    {
     "output_type": "execute_result",
     "data": {
      "text/plain": [
       "   count(distinct employeenumber)\n",
       "0                              23"
      ],
      "text/html": "<div>\n<style scoped>\n    .dataframe tbody tr th:only-of-type {\n        vertical-align: middle;\n    }\n\n    .dataframe tbody tr th {\n        vertical-align: top;\n    }\n\n    .dataframe thead th {\n        text-align: right;\n    }\n</style>\n<table border=\"1\" class=\"dataframe\">\n  <thead>\n    <tr style=\"text-align: right;\">\n      <th></th>\n      <th>count(distinct employeenumber)</th>\n    </tr>\n  </thead>\n  <tbody>\n    <tr>\n      <th>0</th>\n      <td>23</td>\n    </tr>\n  </tbody>\n</table>\n</div>"
     },
     "metadata": {},
     "execution_count": 9
    }
   ],
   "source": [
    "mycursor = mydb.cursor()\n",
    "\n",
    "query = 'select count(distinct employeenumber) from employees'\n",
    "\n",
    "mycursor.execute(query)\n",
    "\n",
    "result = mycursor.fetchall()\n",
    "\n",
    "df = pd.DataFrame(result, columns = mycursor.column_names)\n",
    "df"
   ]
  },
  {
   "cell_type": "code",
   "execution_count": 10,
   "metadata": {},
   "outputs": [
    {
     "output_type": "execute_result",
     "data": {
      "text/plain": [
       "   count(distinct officecode)\n",
       "0                           7"
      ],
      "text/html": "<div>\n<style scoped>\n    .dataframe tbody tr th:only-of-type {\n        vertical-align: middle;\n    }\n\n    .dataframe tbody tr th {\n        vertical-align: top;\n    }\n\n    .dataframe thead th {\n        text-align: right;\n    }\n</style>\n<table border=\"1\" class=\"dataframe\">\n  <thead>\n    <tr style=\"text-align: right;\">\n      <th></th>\n      <th>count(distinct officecode)</th>\n    </tr>\n  </thead>\n  <tbody>\n    <tr>\n      <th>0</th>\n      <td>7</td>\n    </tr>\n  </tbody>\n</table>\n</div>"
     },
     "metadata": {},
     "execution_count": 10
    }
   ],
   "source": [
    "mycursor = mydb.cursor()\n",
    "\n",
    "query = 'select count(distinct officecode) from offices'\n",
    "\n",
    "mycursor.execute(query)\n",
    "\n",
    "result = mycursor.fetchall()\n",
    "\n",
    "df = pd.DataFrame(result, columns = mycursor.column_names)\n",
    "df"
   ]
  },
  {
   "cell_type": "code",
   "execution_count": 11,
   "metadata": {},
   "outputs": [
    {
     "output_type": "execute_result",
     "data": {
      "text/plain": [
       "   count(distinct country)\n",
       "0                        5"
      ],
      "text/html": "<div>\n<style scoped>\n    .dataframe tbody tr th:only-of-type {\n        vertical-align: middle;\n    }\n\n    .dataframe tbody tr th {\n        vertical-align: top;\n    }\n\n    .dataframe thead th {\n        text-align: right;\n    }\n</style>\n<table border=\"1\" class=\"dataframe\">\n  <thead>\n    <tr style=\"text-align: right;\">\n      <th></th>\n      <th>count(distinct country)</th>\n    </tr>\n  </thead>\n  <tbody>\n    <tr>\n      <th>0</th>\n      <td>5</td>\n    </tr>\n  </tbody>\n</table>\n</div>"
     },
     "metadata": {},
     "execution_count": 11
    }
   ],
   "source": [
    "mycursor = mydb.cursor()\n",
    "\n",
    "query = 'select count(distinct country) from offices'\n",
    "\n",
    "mycursor.execute(query)\n",
    "\n",
    "result = mycursor.fetchall()\n",
    "\n",
    "df = pd.DataFrame(result, columns = mycursor.column_names)\n",
    "df"
   ]
  },
  {
   "cell_type": "code",
   "execution_count": 14,
   "metadata": {},
   "outputs": [
    {
     "output_type": "execute_result",
     "data": {
      "text/plain": [
       "   count(distinct productcode)\n",
       "0                          110"
      ],
      "text/html": "<div>\n<style scoped>\n    .dataframe tbody tr th:only-of-type {\n        vertical-align: middle;\n    }\n\n    .dataframe tbody tr th {\n        vertical-align: top;\n    }\n\n    .dataframe thead th {\n        text-align: right;\n    }\n</style>\n<table border=\"1\" class=\"dataframe\">\n  <thead>\n    <tr style=\"text-align: right;\">\n      <th></th>\n      <th>count(distinct productcode)</th>\n    </tr>\n  </thead>\n  <tbody>\n    <tr>\n      <th>0</th>\n      <td>110</td>\n    </tr>\n  </tbody>\n</table>\n</div>"
     },
     "metadata": {},
     "execution_count": 14
    }
   ],
   "source": [
    "mycursor = mydb.cursor()\n",
    "\n",
    "query = 'select count(distinct productcode) from products'\n",
    "\n",
    "mycursor.execute(query)\n",
    "\n",
    "result = mycursor.fetchall()\n",
    "\n",
    "df = pd.DataFrame(result, columns = mycursor.column_names)\n",
    "df"
   ]
  },
  {
   "cell_type": "code",
   "execution_count": 12,
   "metadata": {},
   "outputs": [
    {
     "output_type": "execute_result",
     "data": {
      "text/plain": [
       "  sum(quantityinstock)\n",
       "0               555131"
      ],
      "text/html": "<div>\n<style scoped>\n    .dataframe tbody tr th:only-of-type {\n        vertical-align: middle;\n    }\n\n    .dataframe tbody tr th {\n        vertical-align: top;\n    }\n\n    .dataframe thead th {\n        text-align: right;\n    }\n</style>\n<table border=\"1\" class=\"dataframe\">\n  <thead>\n    <tr style=\"text-align: right;\">\n      <th></th>\n      <th>sum(quantityinstock)</th>\n    </tr>\n  </thead>\n  <tbody>\n    <tr>\n      <th>0</th>\n      <td>555131</td>\n    </tr>\n  </tbody>\n</table>\n</div>"
     },
     "metadata": {},
     "execution_count": 12
    }
   ],
   "source": [
    "mycursor = mydb.cursor()\n",
    "\n",
    "query = 'select sum(quantityinstock) from products'\n",
    "\n",
    "mycursor.execute(query)\n",
    "\n",
    "result = mycursor.fetchall()\n",
    "\n",
    "df = pd.DataFrame(result, columns = mycursor.column_names)\n",
    "df"
   ]
  },
  {
   "cell_type": "code",
   "execution_count": 15,
   "metadata": {},
   "outputs": [
    {
     "output_type": "execute_result",
     "data": {
      "text/plain": [
       "   count(distinct productvendor)\n",
       "0                             13"
      ],
      "text/html": "<div>\n<style scoped>\n    .dataframe tbody tr th:only-of-type {\n        vertical-align: middle;\n    }\n\n    .dataframe tbody tr th {\n        vertical-align: top;\n    }\n\n    .dataframe thead th {\n        text-align: right;\n    }\n</style>\n<table border=\"1\" class=\"dataframe\">\n  <thead>\n    <tr style=\"text-align: right;\">\n      <th></th>\n      <th>count(distinct productvendor)</th>\n    </tr>\n  </thead>\n  <tbody>\n    <tr>\n      <th>0</th>\n      <td>13</td>\n    </tr>\n  </tbody>\n</table>\n</div>"
     },
     "metadata": {},
     "execution_count": 15
    }
   ],
   "source": [
    "mycursor = mydb.cursor()\n",
    "\n",
    "query = 'select count(distinct productvendor) from products'\n",
    "\n",
    "mycursor.execute(query)\n",
    "\n",
    "result = mycursor.fetchall()\n",
    "\n",
    "df = pd.DataFrame(result, columns = mycursor.column_names)\n",
    "df"
   ]
  },
  {
   "source": [
    "SOAL NO. 3"
   ],
   "cell_type": "markdown",
   "metadata": {}
  },
  {
   "cell_type": "code",
   "execution_count": 16,
   "metadata": {},
   "outputs": [
    {
     "output_type": "execute_result",
     "data": {
      "text/plain": [
       "        productline min(buyprice) max(buyprice)\n",
       "0      Classic Cars         15.91        103.42\n",
       "1       Motorcycles         24.14         91.02\n",
       "2            Planes         29.34         77.27\n",
       "3             Ships         33.30         82.34\n",
       "4            Trains         26.72         67.56\n",
       "5  Trucks and Buses         24.92         84.76\n",
       "6      Vintage Cars         20.61         86.70"
      ],
      "text/html": "<div>\n<style scoped>\n    .dataframe tbody tr th:only-of-type {\n        vertical-align: middle;\n    }\n\n    .dataframe tbody tr th {\n        vertical-align: top;\n    }\n\n    .dataframe thead th {\n        text-align: right;\n    }\n</style>\n<table border=\"1\" class=\"dataframe\">\n  <thead>\n    <tr style=\"text-align: right;\">\n      <th></th>\n      <th>productline</th>\n      <th>min(buyprice)</th>\n      <th>max(buyprice)</th>\n    </tr>\n  </thead>\n  <tbody>\n    <tr>\n      <th>0</th>\n      <td>Classic Cars</td>\n      <td>15.91</td>\n      <td>103.42</td>\n    </tr>\n    <tr>\n      <th>1</th>\n      <td>Motorcycles</td>\n      <td>24.14</td>\n      <td>91.02</td>\n    </tr>\n    <tr>\n      <th>2</th>\n      <td>Planes</td>\n      <td>29.34</td>\n      <td>77.27</td>\n    </tr>\n    <tr>\n      <th>3</th>\n      <td>Ships</td>\n      <td>33.30</td>\n      <td>82.34</td>\n    </tr>\n    <tr>\n      <th>4</th>\n      <td>Trains</td>\n      <td>26.72</td>\n      <td>67.56</td>\n    </tr>\n    <tr>\n      <th>5</th>\n      <td>Trucks and Buses</td>\n      <td>24.92</td>\n      <td>84.76</td>\n    </tr>\n    <tr>\n      <th>6</th>\n      <td>Vintage Cars</td>\n      <td>20.61</td>\n      <td>86.70</td>\n    </tr>\n  </tbody>\n</table>\n</div>"
     },
     "metadata": {},
     "execution_count": 16
    }
   ],
   "source": [
    "mycursor = mydb.cursor()\n",
    "\n",
    "query = 'select distinct (productline), min(buyprice), max(buyprice) from products group by productline'\n",
    "\n",
    "mycursor.execute(query)\n",
    "\n",
    "result = mycursor.fetchall()\n",
    "\n",
    "df = pd.DataFrame(result, columns = mycursor.column_names)\n",
    "df"
   ]
  },
  {
   "source": [
    "SOAL NO. 4"
   ],
   "cell_type": "markdown",
   "metadata": {}
  },
  {
   "cell_type": "code",
   "execution_count": 21,
   "metadata": {},
   "outputs": [
    {
     "output_type": "execute_result",
     "data": {
      "text/plain": [
       "                   customername           city      country      total\n",
       "0        Euro+ Shopping Channel         Madrid        Spain  715738.98\n",
       "1  Mini Gifts Distributors Ltd.     San Rafael          USA  584188.24\n",
       "2    Australian Collectors, Co.      Melbourne    Australia  180585.07\n",
       "3            Muscle Machine Inc            NYC          USA  177913.95\n",
       "4       Dragon Souveniers, Ltd.      Singapore    Singapore  156251.03\n",
       "5    Down Under Souveniers, Inc     Auckland    New Zealand  154622.08\n",
       "6                AV Stores, Co.     Manchester           UK  148410.09\n",
       "7       Anna's Decorations, Ltd   North Sydney    Australia  137034.22\n",
       "8      Corporate Gift Ideas Co.  San Francisco          USA  132340.78\n",
       "9        Saveley & Henriot, Co.           Lyon       France  130305.35"
      ],
      "text/html": "<div>\n<style scoped>\n    .dataframe tbody tr th:only-of-type {\n        vertical-align: middle;\n    }\n\n    .dataframe tbody tr th {\n        vertical-align: top;\n    }\n\n    .dataframe thead th {\n        text-align: right;\n    }\n</style>\n<table border=\"1\" class=\"dataframe\">\n  <thead>\n    <tr style=\"text-align: right;\">\n      <th></th>\n      <th>customername</th>\n      <th>city</th>\n      <th>country</th>\n      <th>total</th>\n    </tr>\n  </thead>\n  <tbody>\n    <tr>\n      <th>0</th>\n      <td>Euro+ Shopping Channel</td>\n      <td>Madrid</td>\n      <td>Spain</td>\n      <td>715738.98</td>\n    </tr>\n    <tr>\n      <th>1</th>\n      <td>Mini Gifts Distributors Ltd.</td>\n      <td>San Rafael</td>\n      <td>USA</td>\n      <td>584188.24</td>\n    </tr>\n    <tr>\n      <th>2</th>\n      <td>Australian Collectors, Co.</td>\n      <td>Melbourne</td>\n      <td>Australia</td>\n      <td>180585.07</td>\n    </tr>\n    <tr>\n      <th>3</th>\n      <td>Muscle Machine Inc</td>\n      <td>NYC</td>\n      <td>USA</td>\n      <td>177913.95</td>\n    </tr>\n    <tr>\n      <th>4</th>\n      <td>Dragon Souveniers, Ltd.</td>\n      <td>Singapore</td>\n      <td>Singapore</td>\n      <td>156251.03</td>\n    </tr>\n    <tr>\n      <th>5</th>\n      <td>Down Under Souveniers, Inc</td>\n      <td>Auckland</td>\n      <td>New Zealand</td>\n      <td>154622.08</td>\n    </tr>\n    <tr>\n      <th>6</th>\n      <td>AV Stores, Co.</td>\n      <td>Manchester</td>\n      <td>UK</td>\n      <td>148410.09</td>\n    </tr>\n    <tr>\n      <th>7</th>\n      <td>Anna's Decorations, Ltd</td>\n      <td>North Sydney</td>\n      <td>Australia</td>\n      <td>137034.22</td>\n    </tr>\n    <tr>\n      <th>8</th>\n      <td>Corporate Gift Ideas Co.</td>\n      <td>San Francisco</td>\n      <td>USA</td>\n      <td>132340.78</td>\n    </tr>\n    <tr>\n      <th>9</th>\n      <td>Saveley &amp; Henriot, Co.</td>\n      <td>Lyon</td>\n      <td>France</td>\n      <td>130305.35</td>\n    </tr>\n  </tbody>\n</table>\n</div>"
     },
     "metadata": {},
     "execution_count": 21
    }
   ],
   "source": [
    "mycursor = mydb.cursor()\n",
    "\n",
    "query = 'select customername, city, country, sum(amount) as total from customers, payments where customers.customernumber = payments.customernumber group by customers.customernumber order by total desc limit 10'\n",
    "\n",
    "mycursor.execute(query)\n",
    "\n",
    "result = mycursor.fetchall()\n",
    "\n",
    "df = pd.DataFrame(result, columns = mycursor.column_names)\n",
    "df"
   ]
  },
  {
   "cell_type": "code",
   "execution_count": null,
   "metadata": {},
   "outputs": [],
   "source": []
  }
 ]
}